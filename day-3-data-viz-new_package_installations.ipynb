{
 "cells": [
  {
   "cell_type": "markdown",
   "metadata": {},
   "source": [
    "# Day 3 Data Visualization with Python - dependancy check and update"
   ]
  },
  {
   "cell_type": "markdown",
   "metadata": {},
   "source": [
    "## Preliminaries"
   ]
  },
  {
   "cell_type": "markdown",
   "metadata": {},
   "source": [
    "I wanted to flag a dependency issue that could cause a stumbling block today. I have two solutions. The first is to walk the students through installing the dependencies in their environments (current notebook). We need cufflinks version 0.16 and plotly 3.10.0. this is actually a very common issue when developers make mulitple versions of packages that fuction differently. We need to control package version for each project. There are a few solutions to this based on your system configuration. The first is to install/import as usual and check your versions"
   ]
  },
  {
   "cell_type": "markdown",
   "metadata": {},
   "source": [
    "#### Answer:"
   ]
  },
  {
   "cell_type": "code",
   "execution_count": 2,
   "metadata": {},
   "outputs": [
    {
     "name": "stdout",
     "output_type": "stream",
     "text": [
      "0.16\n",
      "3.10.0\n"
     ]
    }
   ],
   "source": [
    "import numpy as np\n",
    "import pandas as pd\n",
    "import os\n",
    "import pickle\n",
    "import matplotlib\n",
    "import matplotlib.pyplot as plt\n",
    "import plotly\n",
    "import chart_studio.plotly as py\n",
    "import plotly.graph_objs as go\n",
    "from plotly.offline import download_plotlyjs, init_notebook_mode, plot, iplot\n",
    "import cufflinks as cf\n",
    "from plotly import tools\n",
    "\n",
    "#### check versions, you need the right version of cufflinks and pyplot.\n",
    "print(cf.__version__) #should be version 0.16\n",
    "print(plotly.__version__) # should be  version 3.10.1"
   ]
  },
  {
   "cell_type": "markdown",
   "metadata": {},
   "source": [
    "The second involves using a local \"environment\" that allows you to control your installations and connect them to your notebook. \n",
    "\n",
    "\n",
    "# Fixing plotly and cufflinks dependency issues in a Jupyter notebook \n",
    "\n",
    "Three potential methods\n",
    "\n",
    "1) Install the correct packages for plotly and cufflinks using pip at the commmand line\n",
    "\n",
    "2) OR use the method below to make an enviroment kernel and connect it you your notebook \n",
    "\n",
    "3) OR use the provided sandbox on the cloud.\n"
   ]
  },
  {
   "cell_type": "code",
   "execution_count": 58,
   "metadata": {},
   "outputs": [
    {
     "name": "stdout",
     "output_type": "stream",
     "text": [
      "Collecting package metadata (current_repodata.json): done\n",
      "Solving environment: done\n",
      "\n",
      "\n",
      "==> WARNING: A newer version of conda exists. <==\n",
      "  current version: 4.8.0\n",
      "  latest version: 4.9.0\n",
      "\n",
      "Please update conda by running\n",
      "\n",
      "    $ conda update -n base conda\n",
      "\n",
      "\n",
      "\n",
      "## Package Plan ##\n",
      "\n",
      "  environment location: /Users/user/anaconda3/envs/firstEnv\n",
      "\n",
      "\n",
      "\n",
      "Preparing transaction: done\n",
      "Verifying transaction: done\n",
      "Executing transaction: done\n",
      "#\n",
      "# To activate this environment, use\n",
      "#\n",
      "#     $ conda activate firstEnv\n",
      "#\n",
      "# To deactivate an active environment, use\n",
      "#\n",
      "#     $ conda deactivate\n",
      "\n",
      "\n",
      "CommandNotFoundError: Your shell has not been properly configured to use 'conda activate'.\n",
      "To initialize your shell, run\n",
      "\n",
      "    $ conda init <SHELL_NAME>\n",
      "\n",
      "Currently supported shells are:\n",
      "  - bash\n",
      "  - fish\n",
      "  - tcsh\n",
      "  - xonsh\n",
      "  - zsh\n",
      "  - powershell\n",
      "\n",
      "See 'conda init --help' for more information and options.\n",
      "\n",
      "IMPORTANT: You may need to close and restart your shell after running 'conda init'.\n",
      "\n",
      "\n"
     ]
    }
   ],
   "source": [
    "# https://medium.com/@nrk25693/how-to-add-your-conda-environment-to-your-jupyter-notebook-in-just-4-steps-abeab8b8d084\n",
    "# lets make a conda environment just for these package versions and specify the correct versions of plotly\n",
    "\n",
    "# if you need to then make an evironment and connect the kernel to your env\n",
    "\n",
    "\n",
    "## DO THIS IN THE COMMAND LINE ##\n",
    "\n",
    "$conda create --name plotlyenv\n",
    "\n",
    "# open the environment\n",
    "$conda activate plotlyenv\n",
    "\n",
    "#you might need to install pip int the new environment\n",
    "$conda install pip\n",
    "\n",
    "$python -m pip install cufflinks==0.16.0 \n",
    "$python -m pip install plotly==3.10.0 \n",
    "\n",
    "#install the kernel into your notebook\n",
    "$conda install -c anaconda ipykernel\n",
    "$python -m ipykernel install --user --name=plotlyenv\n",
    "\n",
    "# browse to a folder above your notebook and open it\n",
    "$cd ~/Desktop\n",
    "$jupyter notebook\n"
   ]
  }
 ],
 "metadata": {
  "kernelspec": {
   "display_name": "plotlyenv",
   "language": "python",
   "name": "plotlyenv"
  },
  "language_info": {
   "codemirror_mode": {
    "name": "ipython",
    "version": 3
   },
   "file_extension": ".py",
   "mimetype": "text/x-python",
   "name": "python",
   "nbconvert_exporter": "python",
   "pygments_lexer": "ipython3",
   "version": "3.9.0"
  }
 },
 "nbformat": 4,
 "nbformat_minor": 2
}
